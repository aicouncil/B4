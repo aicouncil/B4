{
 "cells": [
  {
   "cell_type": "code",
   "execution_count": 1,
   "id": "e3598877-ab12-465e-8bab-594aac4a9f39",
   "metadata": {},
   "outputs": [
    {
     "name": "stdout",
     "output_type": "stream",
     "text": [
      "Hello World\n"
     ]
    }
   ],
   "source": [
    "print(\"Hello World\")"
   ]
  },
  {
   "cell_type": "code",
   "execution_count": 3,
   "id": "7c20c5d6-8d68-443a-9220-6fa860ff09ca",
   "metadata": {},
   "outputs": [
    {
     "name": "stdout",
     "output_type": "stream",
     "text": [
      "60\n"
     ]
    }
   ],
   "source": [
    "a = 4\n",
    "b = 15\n",
    "c = a * b\n",
    "print(c)"
   ]
  },
  {
   "cell_type": "markdown",
   "id": "be2e9b80-6f70-44a7-a6d9-a733e5e53acb",
   "metadata": {},
   "source": [
    "**Python Programming**\n",
    "- Variables and values\n",
    "- Data Types\n",
    "- Operators\n",
    "- Conditional programming\n",
    "- Loops\n",
    "- Functions"
   ]
  },
  {
   "cell_type": "code",
   "execution_count": 6,
   "id": "2514fd64-c1f0-4e92-873e-90696acda58a",
   "metadata": {},
   "outputs": [
    {
     "name": "stdout",
     "output_type": "stream",
     "text": [
      "21\n"
     ]
    }
   ],
   "source": [
    "#Variables - used to store a value for reuseablity\n",
    "x = 21\n",
    "print(x)"
   ]
  },
  {
   "cell_type": "code",
   "execution_count": 7,
   "id": "df088b7a-40af-4e3d-8b07-b53401dca76d",
   "metadata": {},
   "outputs": [
    {
     "name": "stdout",
     "output_type": "stream",
     "text": [
      "63\n",
      "10.5\n"
     ]
    }
   ],
   "source": [
    "print(x * 3)\n",
    "print(x / 2)"
   ]
  },
  {
   "cell_type": "code",
   "execution_count": 8,
   "id": "451150dc-2f71-4080-8ac8-3643bd69ef72",
   "metadata": {},
   "outputs": [
    {
     "name": "stdout",
     "output_type": "stream",
     "text": [
      "115.5\n"
     ]
    }
   ],
   "source": [
    "x = 21\n",
    "y = 5.5\n",
    "z = x * y\n",
    "print(z)"
   ]
  },
  {
   "cell_type": "code",
   "execution_count": 13,
   "id": "b9a7b27a-bffe-4c8e-8386-a924c66202c9",
   "metadata": {},
   "outputs": [
    {
     "name": "stdout",
     "output_type": "stream",
     "text": [
      "Rajesh\n",
      "22\n",
      "Pune\n"
     ]
    }
   ],
   "source": [
    "name, age, city = 'Rajesh' , 22 , 'Pune'\n",
    "print(name)\n",
    "print(age)\n",
    "print(city)"
   ]
  },
  {
   "cell_type": "code",
   "execution_count": 14,
   "id": "ebbf9b9d-c0f0-4bce-a935-7c4d22960b64",
   "metadata": {},
   "outputs": [
    {
     "name": "stdout",
     "output_type": "stream",
     "text": [
      "101\n",
      "101\n",
      "101\n"
     ]
    }
   ],
   "source": [
    "a = b = c = 101\n",
    "print(a)\n",
    "print(b)\n",
    "print(c)"
   ]
  },
  {
   "cell_type": "code",
   "execution_count": 15,
   "id": "78b51c24-d160-461b-b8f4-cf96e91bf60e",
   "metadata": {},
   "outputs": [
    {
     "name": "stdout",
     "output_type": "stream",
     "text": [
      "Rajesh\n",
      "22\n",
      "Pune\n",
      "550099.5\n"
     ]
    }
   ],
   "source": [
    "name, age, city, salary = 'Rajesh' , 22 , 'Pune' , 550099.50\n",
    "print(name)\n",
    "print(age)\n",
    "print(city)\n",
    "print(salary)"
   ]
  },
  {
   "cell_type": "code",
   "execution_count": 19,
   "id": "0974204f-9a20-4605-a4e1-fc614a8d7cff",
   "metadata": {},
   "outputs": [
    {
     "name": "stdout",
     "output_type": "stream",
     "text": [
      "<class 'str'>\n",
      "<class 'int'>\n",
      "<class 'str'>\n",
      "<class 'float'>\n"
     ]
    }
   ],
   "source": [
    "print(type(name))\n",
    "print(type(age))\n",
    "print(type(city))\n",
    "print(type(salary))"
   ]
  },
  {
   "cell_type": "code",
   "execution_count": 21,
   "id": "81cb52e7-f4f2-464c-9b27-965e673dad98",
   "metadata": {},
   "outputs": [
    {
     "name": "stdout",
     "output_type": "stream",
     "text": [
      "Python is fun\n",
      "<class 'str'>\n"
     ]
    }
   ],
   "source": [
    "text = \"Python is fun\"\n",
    "print(text)\n",
    "print(type(text))"
   ]
  },
  {
   "cell_type": "markdown",
   "id": "80e8de89-ba98-494e-adaf-8fa0c266b70c",
   "metadata": {},
   "source": [
    "**Data Types in Python Programming**\n",
    "- Numeric - int , float\n",
    "- Non-numeric - String\n",
    "- Sequential - List, Tuple , Dictionary\n",
    "- Non-Sequential - Set\n",
    "- Boolean"
   ]
  },
  {
   "cell_type": "code",
   "execution_count": 23,
   "id": "bb5aed29-061f-44b6-bbba-8d64ee0e4982",
   "metadata": {},
   "outputs": [
    {
     "name": "stdout",
     "output_type": "stream",
     "text": [
      "['Pune', 'Delhi', 'Chennai', 'Mysore', 'Hyderabad']\n",
      "<class 'list'>\n"
     ]
    }
   ],
   "source": [
    "cities = [\"Pune\" , \"Delhi\" , \"Chennai\" , \"Mysore\" , \"Hyderabad\"]\n",
    "print(cities)\n",
    "print(type(cities))"
   ]
  },
  {
   "cell_type": "code",
   "execution_count": 25,
   "id": "c43b65b2-738b-4810-b093-1edcc8f25f8c",
   "metadata": {},
   "outputs": [
    {
     "name": "stdout",
     "output_type": "stream",
     "text": [
      "('Jai', 'Adam', 'Sameer', 'Pavan')\n",
      "<class 'tuple'>\n"
     ]
    }
   ],
   "source": [
    "names = (\"Jai\" , \"Adam\" , \"Sameer\" , \"Pavan\")\n",
    "print(names)\n",
    "print(type(names))"
   ]
  },
  {
   "cell_type": "code",
   "execution_count": null,
   "id": "5b354b9b-0ce1-4219-9926-a351a2539082",
   "metadata": {},
   "outputs": [],
   "source": []
  }
 ],
 "metadata": {
  "kernelspec": {
   "display_name": "Python 3 (ipykernel)",
   "language": "python",
   "name": "python3"
  },
  "language_info": {
   "codemirror_mode": {
    "name": "ipython",
    "version": 3
   },
   "file_extension": ".py",
   "mimetype": "text/x-python",
   "name": "python",
   "nbconvert_exporter": "python",
   "pygments_lexer": "ipython3",
   "version": "3.11.0"
  }
 },
 "nbformat": 4,
 "nbformat_minor": 5
}
