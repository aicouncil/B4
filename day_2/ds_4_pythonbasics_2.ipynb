{
 "cells": [
  {
   "cell_type": "markdown",
   "id": "ba499057-6d27-4e62-b6d1-6036dd073d5b",
   "metadata": {},
   "source": [
    "**List** \n",
    "\n",
    "    - Sequential inbuilt data structure\n",
    "    - stores multiple values in single variable\n",
    "    - Mutables"
   ]
  },
  {
   "cell_type": "code",
   "execution_count": 1,
   "id": "7331cce9-dc80-48f1-b4a7-9d121d16a521",
   "metadata": {},
   "outputs": [],
   "source": [
    "cities = [\"Mumbai\" , \"Delhi\" , \"Bengaluru\" , \"Hyderabad\", \"Chennai\"]"
   ]
  },
  {
   "cell_type": "code",
   "execution_count": 2,
   "id": "c7d55539-53c5-4ae5-83c0-7e9bd928abe3",
   "metadata": {},
   "outputs": [
    {
     "name": "stdout",
     "output_type": "stream",
     "text": [
      "['Mumbai', 'Delhi', 'Bengaluru', 'Hyderabad', 'Chennai']\n"
     ]
    }
   ],
   "source": [
    "print(cities)"
   ]
  },
  {
   "cell_type": "code",
   "execution_count": 4,
   "id": "032c8530-6d28-489c-a6e1-8d42d7ae3537",
   "metadata": {},
   "outputs": [
    {
     "name": "stdout",
     "output_type": "stream",
     "text": [
      "Mumbai\n",
      "Delhi\n",
      "Bengaluru\n"
     ]
    }
   ],
   "source": [
    "print(cities[0])\n",
    "print(cities[1])\n",
    "print(cities[2])"
   ]
  },
  {
   "cell_type": "markdown",
   "id": "8b7ced7b-2e96-4d33-9262-3d0bea85853b",
   "metadata": {},
   "source": [
    "**List Operations**"
   ]
  },
  {
   "cell_type": "code",
   "execution_count": 23,
   "id": "ffa4be31-8168-476e-a005-7beb01598519",
   "metadata": {},
   "outputs": [
    {
     "name": "stdout",
     "output_type": "stream",
     "text": [
      "['Mumbai', 'Delhi', 'Hyderabad', 'Chennai', 'Indore']\n",
      "['Mumbai', 'Delhi', 'Mysore', 'Chennai', 'Indore']\n",
      "\n",
      "<class 'list'>\n"
     ]
    }
   ],
   "source": [
    "print(cities)\n",
    "\n",
    "cities[2] = \"Mysore\"\n",
    "\n",
    "print(cities)\n",
    "print()\n",
    "print(type(cities))"
   ]
  },
  {
   "cell_type": "markdown",
   "id": "bed1866f-e450-41aa-b104-058f8657ee6c",
   "metadata": {},
   "source": [
    "**functions of list**\n",
    "\n",
    "  - append() - to add a new entity into the existing list\n",
    "  - insert() - to insert an entity into the existing list at a defined index\n",
    "  - remove() - to remove an entity from the list\n",
    "  - pop() - to remove an entity from list using index\n",
    "  - index() - to know the index of an entity\n",
    "  "
   ]
  },
  {
   "cell_type": "code",
   "execution_count": 8,
   "id": "fb6c5299-6c4e-4a48-9652-8fa8d1400cc1",
   "metadata": {},
   "outputs": [
    {
     "name": "stdout",
     "output_type": "stream",
     "text": [
      "['Mumbai', 'Delhi', 'Mysore', 'Hyderabad', 'Chennai']\n",
      "['Mumbai', 'Delhi', 'Mysore', 'Hyderabad', 'Chennai', 'Indore']\n"
     ]
    }
   ],
   "source": [
    "print(cities)\n",
    "cities.append('Indore')\n",
    "print(cities)"
   ]
  },
  {
   "cell_type": "code",
   "execution_count": 10,
   "id": "33b59ef3-b092-4f08-bfd5-254cdbe8c199",
   "metadata": {},
   "outputs": [
    {
     "name": "stdout",
     "output_type": "stream",
     "text": [
      "['Mumbai', 'Delhi', 'Mysore', 'Hyderabad', 'Chennai', 'Indore']\n",
      "['Mumbai', 'Delhi', 'Jaipur', 'Mysore', 'Hyderabad', 'Chennai', 'Indore']\n"
     ]
    }
   ],
   "source": [
    "print(cities)\n",
    "cities.insert(2,'Jaipur')\n",
    "print(cities)"
   ]
  },
  {
   "cell_type": "code",
   "execution_count": 11,
   "id": "e67d06ec-6e2f-4010-b02f-3360b813db46",
   "metadata": {},
   "outputs": [
    {
     "name": "stdout",
     "output_type": "stream",
     "text": [
      "['Mumbai', 'Delhi', 'Jaipur', 'Mysore', 'Hyderabad', 'Chennai', 'Indore']\n",
      "['Mumbai', 'Delhi', 'Jaipur', 'Hyderabad', 'Chennai', 'Indore']\n"
     ]
    }
   ],
   "source": [
    "print(cities)\n",
    "cities.remove('Mysore')\n",
    "print(cities)"
   ]
  },
  {
   "cell_type": "code",
   "execution_count": 13,
   "id": "55d49ed7-1c05-44fa-b75d-2936995807d9",
   "metadata": {},
   "outputs": [
    {
     "name": "stdout",
     "output_type": "stream",
     "text": [
      "['Mumbai', 'Delhi', 'Jaipur', 'Hyderabad', 'Chennai', 'Indore']\n",
      "['Mumbai', 'Delhi', 'Hyderabad', 'Chennai', 'Indore']\n"
     ]
    }
   ],
   "source": [
    "print(cities)\n",
    "cities.pop(2)\n",
    "print(cities)"
   ]
  },
  {
   "cell_type": "code",
   "execution_count": 16,
   "id": "00b05b61-f7de-43ac-9033-7654d0b2861c",
   "metadata": {},
   "outputs": [
    {
     "name": "stdout",
     "output_type": "stream",
     "text": [
      "['Mumbai', 'Delhi', 'Hyderabad', 'Chennai', 'Indore']\n",
      "3\n"
     ]
    }
   ],
   "source": [
    "print(cities)\n",
    "print(cities.index('Chennai'))"
   ]
  },
  {
   "cell_type": "code",
   "execution_count": 17,
   "id": "7477dcae-a540-44ed-9074-dc84370bd15c",
   "metadata": {},
   "outputs": [
    {
     "name": "stdout",
     "output_type": "stream",
     "text": [
      "['Mumbai', 'Delhi', 'Hyderabad', 'Chennai', 'Indore']\n",
      "5\n"
     ]
    }
   ],
   "source": [
    "print(cities)\n",
    "print(len(cities))"
   ]
  },
  {
   "cell_type": "markdown",
   "id": "b785f5e5-7208-4242-ac68-8014bb32ab0a",
   "metadata": {},
   "source": [
    "**Tuple**\n",
    "\n",
    " - Sequential inbuilt data structure\n",
    " - stores multiple values in single variable\n",
    " - Immutable"
   ]
  },
  {
   "cell_type": "code",
   "execution_count": 22,
   "id": "07ca065a-fc97-429c-8e4d-f6849dedb192",
   "metadata": {},
   "outputs": [
    {
     "name": "stdout",
     "output_type": "stream",
     "text": [
      "('blue', 'green', 'pink', 'red', 'yellow')\n",
      "<class 'tuple'>\n"
     ]
    }
   ],
   "source": [
    "colors = (\"blue\" , \"green\" , \"pink\" , \"red\" , \"yellow\")\n",
    "print(colors)\n",
    "print(type(colors))"
   ]
  },
  {
   "cell_type": "code",
   "execution_count": 20,
   "id": "fdf62ba7-1d99-47f2-9b7d-014779bd1464",
   "metadata": {},
   "outputs": [
    {
     "ename": "TypeError",
     "evalue": "'tuple' object does not support item assignment",
     "output_type": "error",
     "traceback": [
      "\u001b[31m---------------------------------------------------------------------------\u001b[39m",
      "\u001b[31mTypeError\u001b[39m                                 Traceback (most recent call last)",
      "\u001b[36mCell\u001b[39m\u001b[36m \u001b[39m\u001b[32mIn[20]\u001b[39m\u001b[32m, line 1\u001b[39m\n\u001b[32m----> \u001b[39m\u001b[32m1\u001b[39m \u001b[43mcolors\u001b[49m\u001b[43m[\u001b[49m\u001b[32;43m1\u001b[39;49m\u001b[43m]\u001b[49m = \u001b[33m'\u001b[39m\u001b[33mpurple\u001b[39m\u001b[33m'\u001b[39m\n",
      "\u001b[31mTypeError\u001b[39m: 'tuple' object does not support item assignment"
     ]
    }
   ],
   "source": [
    "colors[1] = 'purple'"
   ]
  },
  {
   "cell_type": "code",
   "execution_count": 21,
   "id": "44c91222-0280-4ec8-8070-35982d67e9dc",
   "metadata": {},
   "outputs": [
    {
     "name": "stdout",
     "output_type": "stream",
     "text": [
      "2\n"
     ]
    }
   ],
   "source": [
    "print(colors.index(\"pink\"))"
   ]
  },
  {
   "cell_type": "markdown",
   "id": "c67fbc14-185e-47e3-be6e-7c8f59d7582b",
   "metadata": {},
   "source": [
    "**Dictionary**\n",
    "\n",
    "  - sequential key value pair\n",
    "  - Mutable"
   ]
  },
  {
   "cell_type": "code",
   "execution_count": 25,
   "id": "96cd5fb5-d69b-4912-8d6a-abd224e0d384",
   "metadata": {},
   "outputs": [
    {
     "name": "stdout",
     "output_type": "stream",
     "text": [
      "{'name': 'Jai', 'city': 'Delhi', 'age': 22}\n",
      "<class 'dict'>\n"
     ]
    }
   ],
   "source": [
    "emp_details = {'name': 'Jai' , 'city' : 'Delhi' , 'age' : 22}\n",
    "\n",
    "print(emp_details)\n",
    "print(type(emp_details))"
   ]
  },
  {
   "cell_type": "code",
   "execution_count": 28,
   "id": "8ffc8972-8446-40d9-b2f8-1cc6736d5676",
   "metadata": {},
   "outputs": [
    {
     "name": "stdout",
     "output_type": "stream",
     "text": [
      "Jai\n",
      "Delhi\n",
      "22\n"
     ]
    }
   ],
   "source": [
    "print(emp_details['name'])\n",
    "print(emp_details['city'])\n",
    "print(emp_details['age'])"
   ]
  },
  {
   "cell_type": "code",
   "execution_count": 29,
   "id": "ef0ad39d-5855-4316-afe4-062c6fa6c7a9",
   "metadata": {},
   "outputs": [
    {
     "name": "stdout",
     "output_type": "stream",
     "text": [
      "dict_keys(['name', 'city', 'age'])\n",
      "dict_values(['Jai', 'Delhi', 22])\n"
     ]
    }
   ],
   "source": [
    "print(emp_details.keys())\n",
    "print(emp_details.values())"
   ]
  },
  {
   "cell_type": "code",
   "execution_count": 30,
   "id": "08a2a975-1d08-4d70-8120-7cde8f46bcbc",
   "metadata": {},
   "outputs": [
    {
     "name": "stdout",
     "output_type": "stream",
     "text": [
      "{'name': 'pavan', 'city': 'Delhi', 'age': 22}\n"
     ]
    }
   ],
   "source": [
    "emp_details['name'] = 'pavan'\n",
    "print(emp_details)"
   ]
  },
  {
   "cell_type": "code",
   "execution_count": 31,
   "id": "a72dff24-1c1d-49d0-91d8-bc03b5e37010",
   "metadata": {},
   "outputs": [
    {
     "name": "stdout",
     "output_type": "stream",
     "text": [
      "{'name': 'pavan', 'city': 'Delhi', 'age': 22, 'salary': 34000.5}\n"
     ]
    }
   ],
   "source": [
    "emp_details['salary'] = 34000.50\n",
    "print(emp_details)"
   ]
  },
  {
   "cell_type": "code",
   "execution_count": 32,
   "id": "2b0ee74e-4e0b-49af-9f45-ee59f4b2fa4e",
   "metadata": {},
   "outputs": [
    {
     "name": "stdout",
     "output_type": "stream",
     "text": [
      "{'name': 'pavan', 'city': 'Delhi', 'salary': 34000.5}\n"
     ]
    }
   ],
   "source": [
    "del(emp_details['age'])\n",
    "print(emp_details)"
   ]
  },
  {
   "cell_type": "markdown",
   "id": "ce29e9db-f5ff-4464-8802-99f5253ce36a",
   "metadata": {},
   "source": [
    "**sets**\n",
    "\n",
    "     - Non-sequential\n",
    "     - unique values"
   ]
  },
  {
   "cell_type": "code",
   "execution_count": 35,
   "id": "d511a16c-8fe8-4c31-8afd-16d77e0f5b6d",
   "metadata": {},
   "outputs": [
    {
     "name": "stdout",
     "output_type": "stream",
     "text": [
      "{17, 19, 20, 10, 12, 15}\n",
      "<class 'set'>\n"
     ]
    }
   ],
   "source": [
    "ids = {10, 12, 15, 17, 19, 20, 10, 15, 17}\n",
    "\n",
    "print(ids)\n",
    "print(type(ids))"
   ]
  },
  {
   "cell_type": "markdown",
   "id": "c80d343c-b163-4da5-b9ba-691a1889dbae",
   "metadata": {},
   "source": [
    "**Boolean**\n",
    "\n",
    " - True / False"
   ]
  },
  {
   "cell_type": "code",
   "execution_count": 36,
   "id": "3434d1b4-4a9c-44a3-9c90-45000a0cbe99",
   "metadata": {},
   "outputs": [
    {
     "name": "stdout",
     "output_type": "stream",
     "text": [
      "True\n",
      "<class 'bool'>\n"
     ]
    }
   ],
   "source": [
    "status = True\n",
    "print(status)\n",
    "print(type(status))"
   ]
  },
  {
   "cell_type": "markdown",
   "id": "dd7e3497-ef4f-409e-9089-c76985d197e0",
   "metadata": {},
   "source": [
    "**Operators & Operands**\n",
    "\n",
    "    - Arthmetic\n",
    "    - Assignment\n",
    "    - Comparasion\n",
    "    - Logical\n",
    "    - Membership"
   ]
  },
  {
   "cell_type": "code",
   "execution_count": 39,
   "id": "97fb9607-6276-474e-9850-03a379566a9f",
   "metadata": {},
   "outputs": [
    {
     "name": "stdout",
     "output_type": "stream",
     "text": [
      "22\n",
      "12\n",
      "85\n",
      "3.4\n",
      "1419857\n",
      "3\n",
      "2\n"
     ]
    }
   ],
   "source": [
    "#Arthmetic\n",
    "\n",
    "a = 17\n",
    "b = 5\n",
    "\n",
    "print(a + b)\n",
    "print(a - b)\n",
    "print(a * b)\n",
    "print(a / b)\n",
    "print(a ** b)    #exponential - 17 raised to the power of 5\n",
    "print(a // b)      #floor   - integer output\n",
    "print(a % b)      #Modulus"
   ]
  },
  {
   "cell_type": "code",
   "execution_count": 40,
   "id": "965104fb-6b7c-4bf1-bcb9-3fd78546a9ee",
   "metadata": {},
   "outputs": [],
   "source": [
    "#Assignment\n",
    "x = 21"
   ]
  },
  {
   "cell_type": "code",
   "execution_count": 41,
   "id": "f73fb34b-4980-4bcb-8ff0-d90abac2e5a7",
   "metadata": {},
   "outputs": [
    {
     "name": "stdout",
     "output_type": "stream",
     "text": [
      "23\n"
     ]
    }
   ],
   "source": [
    "x += 2\n",
    "print(x)"
   ]
  },
  {
   "cell_type": "code",
   "execution_count": 42,
   "id": "c0711740-71ff-4da3-9537-5cc3e0dca90c",
   "metadata": {},
   "outputs": [
    {
     "name": "stdout",
     "output_type": "stream",
     "text": [
      "20\n"
     ]
    }
   ],
   "source": [
    "x -= 3\n",
    "print(x)"
   ]
  },
  {
   "cell_type": "code",
   "execution_count": 43,
   "id": "32ab5c30-7e89-4df1-b34a-50513ae56821",
   "metadata": {},
   "outputs": [
    {
     "name": "stdout",
     "output_type": "stream",
     "text": [
      "40\n"
     ]
    }
   ],
   "source": [
    "x *= 2\n",
    "print(x)"
   ]
  },
  {
   "cell_type": "code",
   "execution_count": 44,
   "id": "e6f1a448-5962-451e-ab12-1f9ad17e941d",
   "metadata": {},
   "outputs": [
    {
     "name": "stdout",
     "output_type": "stream",
     "text": [
      "6.666666666666667\n"
     ]
    }
   ],
   "source": [
    "x /= 6\n",
    "print(x)"
   ]
  },
  {
   "cell_type": "code",
   "execution_count": 45,
   "id": "324424b1-9272-40b6-983c-2ed5009e6224",
   "metadata": {},
   "outputs": [
    {
     "name": "stdout",
     "output_type": "stream",
     "text": [
      "44.44444444444445\n"
     ]
    }
   ],
   "source": [
    "x **= 2\n",
    "print(x)"
   ]
  },
  {
   "cell_type": "code",
   "execution_count": 46,
   "id": "0a1594d4-2dcc-4fbb-aecf-ee96a8f158f4",
   "metadata": {},
   "outputs": [
    {
     "name": "stdout",
     "output_type": "stream",
     "text": [
      "14.0\n"
     ]
    }
   ],
   "source": [
    "x //= 3\n",
    "print(x)"
   ]
  },
  {
   "cell_type": "code",
   "execution_count": 47,
   "id": "8cf4d8b2-a160-4768-aec9-df89cc3579cd",
   "metadata": {},
   "outputs": [
    {
     "name": "stdout",
     "output_type": "stream",
     "text": [
      "4.0\n"
     ]
    }
   ],
   "source": [
    "x %= 5\n",
    "print(x)"
   ]
  },
  {
   "cell_type": "code",
   "execution_count": 52,
   "id": "ec8461c9-a78f-49c7-8f26-40ec7b51cb8c",
   "metadata": {},
   "outputs": [
    {
     "name": "stdout",
     "output_type": "stream",
     "text": [
      "True\n",
      "True\n",
      "False\n",
      "True\n",
      "True\n",
      "False\n",
      "True\n",
      "False\n"
     ]
    }
   ],
   "source": [
    "#Comparasion\n",
    "\n",
    "a = 12\n",
    "b = 7\n",
    "\n",
    "print(a == 12)\n",
    "print(b == 7)\n",
    "print(a == b)\n",
    "print(a != b)\n",
    "print(a > b)\n",
    "print(a < b)\n",
    "print(a >= b)\n",
    "print(a <= b)"
   ]
  },
  {
   "cell_type": "code",
   "execution_count": 56,
   "id": "9c2ac1c3-7b96-4120-b338-d884d5eb729e",
   "metadata": {},
   "outputs": [
    {
     "name": "stdout",
     "output_type": "stream",
     "text": [
      "True\n",
      "False\n",
      "False\n",
      "False\n"
     ]
    }
   ],
   "source": [
    "#Logical - and / or\n",
    "\n",
    "print(True and True)\n",
    "print(True and False)\n",
    "print(False and True)\n",
    "print(False and False)"
   ]
  },
  {
   "cell_type": "code",
   "execution_count": 60,
   "id": "3c6b1531-fe61-4cbc-8de4-c49be02399a2",
   "metadata": {},
   "outputs": [
    {
     "name": "stdout",
     "output_type": "stream",
     "text": [
      "True\n",
      "False\n",
      "False\n",
      "False\n"
     ]
    }
   ],
   "source": [
    "age = 21\n",
    "weight = 65\n",
    "\n",
    "print(age > 18 and weight > 50)\n",
    "print(age > 18 and weight < 50)\n",
    "print(age < 18 and weight > 50)\n",
    "print(age < 18 and weight < 50)"
   ]
  },
  {
   "cell_type": "code",
   "execution_count": 61,
   "id": "995aa737-dc07-419c-9c0a-423f4078c990",
   "metadata": {},
   "outputs": [
    {
     "name": "stdout",
     "output_type": "stream",
     "text": [
      "True\n",
      "True\n",
      "True\n",
      "False\n"
     ]
    }
   ],
   "source": [
    "print(True or True)\n",
    "print(True or False)\n",
    "print(False or True)\n",
    "print(False or False)"
   ]
  },
  {
   "cell_type": "code",
   "execution_count": 62,
   "id": "72b5e226-af0d-449c-acc5-0a8e0428fd2d",
   "metadata": {},
   "outputs": [
    {
     "name": "stdout",
     "output_type": "stream",
     "text": [
      "True\n",
      "True\n",
      "True\n",
      "False\n"
     ]
    }
   ],
   "source": [
    "age = 21\n",
    "weight = 65\n",
    "\n",
    "print(age > 18  or weight > 50)\n",
    "print(age > 18 or weight < 50)\n",
    "print(age < 18 or weight > 50)\n",
    "print(age < 18 or weight < 50)"
   ]
  },
  {
   "cell_type": "code",
   "execution_count": 64,
   "id": "ab12db0b-4de6-41c8-8f70-1f49c68baa31",
   "metadata": {},
   "outputs": [
    {
     "name": "stdout",
     "output_type": "stream",
     "text": [
      "True\n",
      "False\n"
     ]
    }
   ],
   "source": [
    "#Membership\n",
    "\n",
    "name = \"Pavan Singh Negi\"\n",
    "print('P' in name)\n",
    "print('Q' in name)"
   ]
  },
  {
   "cell_type": "code",
   "execution_count": null,
   "id": "b38585de-2ba0-4d6a-8cb5-e539e77f9187",
   "metadata": {},
   "outputs": [],
   "source": [
    "name = \"Pavan Singh Negi\"\n",
    "print('P' not in name)\n",
    "print('Q' not in name)"
   ]
  }
 ],
 "metadata": {
  "kernelspec": {
   "display_name": "Python 3 (ipykernel)",
   "language": "python",
   "name": "python3"
  },
  "language_info": {
   "codemirror_mode": {
    "name": "ipython",
    "version": 3
   },
   "file_extension": ".py",
   "mimetype": "text/x-python",
   "name": "python",
   "nbconvert_exporter": "python",
   "pygments_lexer": "ipython3",
   "version": "3.11.0"
  }
 },
 "nbformat": 4,
 "nbformat_minor": 5
}
