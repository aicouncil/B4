{
  "nbformat": 4,
  "nbformat_minor": 0,
  "metadata": {
    "colab": {
      "provenance": []
    },
    "kernelspec": {
      "name": "python3",
      "display_name": "Python 3"
    },
    "language_info": {
      "name": "python"
    }
  },
  "cells": [
    {
      "cell_type": "markdown",
      "source": [
        "**Conditional Programming**"
      ],
      "metadata": {
        "id": "7B8jdYdaFfYO"
      }
    },
    {
      "cell_type": "code",
      "execution_count": null,
      "metadata": {
        "colab": {
          "base_uri": "https://localhost:8080/"
        },
        "id": "HuH7I3_YFddl",
        "outputId": "43dcb06a-e37a-4386-996a-bfe91f418187"
      },
      "outputs": [
        {
          "output_type": "stream",
          "name": "stdout",
          "text": [
            "Hello\n"
          ]
        }
      ],
      "source": [
        "print(\"Hello\")"
      ]
    },
    {
      "cell_type": "code",
      "source": [
        "age = 21\n",
        "\n",
        "if age > 18:\n",
        "  print(\"You are eligible to vote\")"
      ],
      "metadata": {
        "colab": {
          "base_uri": "https://localhost:8080/"
        },
        "id": "JJoKtiJgFvlw",
        "outputId": "9102758e-0a3c-4413-c129-5179facd09de"
      },
      "execution_count": null,
      "outputs": [
        {
          "output_type": "stream",
          "name": "stdout",
          "text": [
            "You are eligible to vote\n"
          ]
        }
      ]
    },
    {
      "cell_type": "code",
      "source": [
        "age = 17\n",
        "\n",
        "if age > 18:\n",
        "  print(\"You are eligible to vote\")\n",
        "else:\n",
        "  print(\"You are not eligible to vote\")"
      ],
      "metadata": {
        "colab": {
          "base_uri": "https://localhost:8080/"
        },
        "id": "COyktRnaF6pY",
        "outputId": "53ea6cce-a77e-4309-f312-c39149ad97b4"
      },
      "execution_count": null,
      "outputs": [
        {
          "output_type": "stream",
          "name": "stdout",
          "text": [
            "You are not eligible to vote\n"
          ]
        }
      ]
    },
    {
      "cell_type": "code",
      "source": [
        "#WAP to accept marks of a student and compare it to assign grades\n",
        "\n",
        "marks = int(input(\"Enter Your Marks \"))      #user inputs are by default considered as string in python, so typecast it into numeric\n",
        "print(marks)\n",
        "\n",
        "print(marks > 80)"
      ],
      "metadata": {
        "colab": {
          "base_uri": "https://localhost:8080/"
        },
        "id": "ZOsIXALlGZN7",
        "outputId": "86370d9f-43f7-4369-c6c3-1b1cb61dea97"
      },
      "execution_count": null,
      "outputs": [
        {
          "output_type": "stream",
          "name": "stdout",
          "text": [
            "Enter Your Marks 87\n",
            "87\n",
            "True\n"
          ]
        }
      ]
    },
    {
      "cell_type": "code",
      "source": [
        "#WAP to accept marks of a student and compare it to assign grades,\n",
        "# if marks is greater the 40 then pass else fail\n",
        "\n",
        "marks = int(input(\"Enter your marks\"))\n",
        "\n",
        "if marks > 40:\n",
        "  print(\"Pass\")\n",
        "else:\n",
        "  print(\"Fail\")"
      ],
      "metadata": {
        "colab": {
          "base_uri": "https://localhost:8080/"
        },
        "id": "8HD-z9QRG0MC",
        "outputId": "2b27cf8b-5647-4a42-af8a-9a1749c44f94"
      },
      "execution_count": null,
      "outputs": [
        {
          "output_type": "stream",
          "name": "stdout",
          "text": [
            "Enter your marks76\n",
            "Pass\n"
          ]
        }
      ]
    },
    {
      "cell_type": "code",
      "source": [
        "#marks > 90 => 'grade A+'\n",
        "#marks > 80 => 'grade A'\n",
        "#marks > 70 => 'grade B+'\n",
        "#marks > 60 => 'grade B'\n",
        "#marks > 50 => 'grade C+'\n",
        "#marks > 40 => 'grade C'\n",
        "#else => 'fail'\n",
        "\n",
        "\n",
        "marks = int(input(\"Enter your marks\"))\n",
        "\n",
        "if marks > 90:\n",
        "  print(\"Grade A+\")\n",
        "if marks > 80:\n",
        "  print(\"Grade A\")\n",
        "if marks > 70:\n",
        "  print(\"Grade B+\")\n",
        "if marks > 60:\n",
        "  print(\"Grade B\")\n",
        "if marks > 50:\n",
        "  print(\"Grade C+\")\n",
        "if marks > 40:\n",
        "  print(\"Grade C\")\n",
        "else:\n",
        "  print(\"Fail\")"
      ],
      "metadata": {
        "colab": {
          "base_uri": "https://localhost:8080/"
        },
        "id": "DkKpRh4gIzu0",
        "outputId": "78321d5a-733c-483c-d149-c8a15e250d0a"
      },
      "execution_count": null,
      "outputs": [
        {
          "output_type": "stream",
          "name": "stdout",
          "text": [
            "Enter your marks93\n",
            "Grade A+\n",
            "Grade A\n",
            "Grade B+\n",
            "Grade B\n",
            "Grade C+\n",
            "Grade C\n"
          ]
        }
      ]
    },
    {
      "cell_type": "code",
      "source": [
        "marks = int(input(\"Enter your marks\"))\n",
        "\n",
        "if marks > 90:\n",
        "  print(\"Grade A+\")\n",
        "elif marks > 80:\n",
        "  print(\"Grade A\")\n",
        "elif marks > 70:\n",
        "  print(\"Grade B+\")\n",
        "elif marks > 60:\n",
        "  print(\"Grade B\")\n",
        "elif marks > 50:\n",
        "  print(\"Grade C+\")\n",
        "elif marks > 40:\n",
        "  print(\"Grade C\")\n",
        "else:\n",
        "  print(\"Fail\")"
      ],
      "metadata": {
        "colab": {
          "base_uri": "https://localhost:8080/"
        },
        "id": "NFbK9WVFJjtP",
        "outputId": "c5d9168b-2e76-48c7-9f38-644a16631d8f"
      },
      "execution_count": null,
      "outputs": [
        {
          "output_type": "stream",
          "name": "stdout",
          "text": [
            "Enter your marks75\n",
            "Grade B+\n"
          ]
        }
      ]
    },
    {
      "cell_type": "code",
      "source": [
        "#Simulate a login activity\n",
        "#userid - ........\n",
        "#password - ........\n",
        "#compare userid and password -> if both are correct => login success\n",
        "\n",
        "userid = input(\"Enter your user id \")\n",
        "userpass = input(\"Enter the password \")\n",
        "\n",
        "if userid == 'admin' and userpass == 'password':\n",
        "  print(\"You are logged in\")\n",
        "else:\n",
        "  print(\"Incorrrect credentials\")"
      ],
      "metadata": {
        "colab": {
          "base_uri": "https://localhost:8080/"
        },
        "id": "FPoM3Z8iJw5x",
        "outputId": "905c7c91-66d3-45ce-a5d0-8c316e30a5a3"
      },
      "execution_count": null,
      "outputs": [
        {
          "output_type": "stream",
          "name": "stdout",
          "text": [
            "Enter your user id admin\n",
            "Enter the password pass\n",
            "Incorrrect credentials\n"
          ]
        }
      ]
    },
    {
      "cell_type": "markdown",
      "source": [
        "**Loops**\n",
        "\n",
        "  - For loop\n",
        "  - While loop"
      ],
      "metadata": {
        "id": "iZU6eeZZMQvm"
      }
    },
    {
      "cell_type": "code",
      "source": [
        "print(\"Hello World!!\")\n",
        "print(\"Hello World!!\")\n",
        "print(\"Hello World!!\")\n",
        "print(\"Hello World!!\")\n",
        "print(\"Hello World!!\")"
      ],
      "metadata": {
        "colab": {
          "base_uri": "https://localhost:8080/"
        },
        "id": "FgU0AedrLxYd",
        "outputId": "3094eecd-c671-4516-8db5-1c71a13a705d"
      },
      "execution_count": null,
      "outputs": [
        {
          "output_type": "stream",
          "name": "stdout",
          "text": [
            "Hello World!!\n",
            "Hello World!!\n",
            "Hello World!!\n",
            "Hello World!!\n",
            "Hello World!!\n"
          ]
        }
      ]
    },
    {
      "cell_type": "code",
      "source": [
        "for i in range(0,5):\n",
        "  print(i , \"Hello World\")"
      ],
      "metadata": {
        "colab": {
          "base_uri": "https://localhost:8080/"
        },
        "id": "mfmUzXzNMXjb",
        "outputId": "025cd24a-c408-4f2a-aaf2-09b73f46b38b"
      },
      "execution_count": null,
      "outputs": [
        {
          "output_type": "stream",
          "name": "stdout",
          "text": [
            "0 Hello World\n",
            "1 Hello World\n",
            "2 Hello World\n",
            "3 Hello World\n",
            "4 Hello World\n"
          ]
        }
      ]
    },
    {
      "cell_type": "code",
      "source": [
        "cities = [\"Mumbai\", \"Delhi\", \"Bengaluru\", \"Hyderabad\", \"Chennai\"]\n",
        "\n",
        "print(cities[0] , len(cities[0]))\n",
        "print(cities[1] , len(cities[1]))\n",
        "print(cities[2] , len(cities[2]))\n",
        "print(cities[3] , len(cities[3]))\n",
        "print(cities[4] , len(cities[4]))"
      ],
      "metadata": {
        "colab": {
          "base_uri": "https://localhost:8080/"
        },
        "id": "0PptZjrYMpZu",
        "outputId": "921ac622-be25-4092-c594-4a9c01401aec"
      },
      "execution_count": null,
      "outputs": [
        {
          "output_type": "stream",
          "name": "stdout",
          "text": [
            "Mumbai 6\n",
            "Delhi 5\n",
            "Bengaluru 9\n",
            "Hyderabad 9\n",
            "Chennai 7\n"
          ]
        }
      ]
    },
    {
      "cell_type": "code",
      "source": [
        "cities = [\"Mumbai\", \"Delhi\", \"Bengaluru\", \"Hyderabad\", \"Chennai\"]\n",
        "\n",
        "for i in range(0,5):\n",
        "  print(cities[i] , len(cities[i]))"
      ],
      "metadata": {
        "colab": {
          "base_uri": "https://localhost:8080/"
        },
        "id": "q5ya6JnDNYcV",
        "outputId": "3d33d963-1ae6-4500-8f29-b8e2771cbd4c"
      },
      "execution_count": null,
      "outputs": [
        {
          "output_type": "stream",
          "name": "stdout",
          "text": [
            "Mumbai 6\n",
            "Delhi 5\n",
            "Bengaluru 9\n",
            "Hyderabad 9\n",
            "Chennai 7\n"
          ]
        }
      ]
    },
    {
      "cell_type": "code",
      "source": [
        "cities = [\"Mumbai\", \"Delhi\", \"Bengaluru\", \"Hyderabad\", \"Chennai\"]\n",
        "\n",
        "for city in cities:\n",
        "  print(city, len(city))"
      ],
      "metadata": {
        "colab": {
          "base_uri": "https://localhost:8080/"
        },
        "id": "NBuw4PU2OFXD",
        "outputId": "6f5ac468-c1b0-4315-ca74-86707f9c4689"
      },
      "execution_count": null,
      "outputs": [
        {
          "output_type": "stream",
          "name": "stdout",
          "text": [
            "Mumbai 6\n",
            "Delhi 5\n",
            "Bengaluru 9\n",
            "Hyderabad 9\n",
            "Chennai 7\n"
          ]
        }
      ]
    },
    {
      "cell_type": "code",
      "source": [
        "#Login activity => allow user to provide loginid and password for 3 times\n",
        "\n",
        "for i in range(0,3):\n",
        "  userid = input(\"Enter your user id \")\n",
        "  userpass = input(\"Enter the password \")\n",
        "\n",
        "  if userid == 'admin' and userpass == 'password':\n",
        "    print(\"You are logged in\")\n",
        "    break\n",
        "  else:\n",
        "    print(\"Incorrrect credentials\")"
      ],
      "metadata": {
        "colab": {
          "base_uri": "https://localhost:8080/"
        },
        "id": "sRsvzboWOz6h",
        "outputId": "56f06050-8a3c-47a7-e3f4-6f342076a244"
      },
      "execution_count": null,
      "outputs": [
        {
          "output_type": "stream",
          "name": "stdout",
          "text": [
            "Enter your user id dfghj\n",
            "Enter the password cvgbhj\n",
            "Incorrrect credentials\n",
            "Enter your user id admin\n",
            "Enter the password password\n",
            "You are logged in\n"
          ]
        }
      ]
    },
    {
      "cell_type": "code",
      "source": [
        "#take a number as user input\n",
        "#create a multiplication table from 1 to 10 for the number entered by user\n",
        "\n",
        "number = int(input(\"Enter a number\"))\n",
        "\n",
        "for i in range(1,11):\n",
        "  print(f\"{i} * {number} = {i * number}\" )"
      ],
      "metadata": {
        "id": "3xneXap8PzgH",
        "colab": {
          "base_uri": "https://localhost:8080/"
        },
        "outputId": "f29c6cf5-42cb-46f6-85f8-e76766d4640d"
      },
      "execution_count": null,
      "outputs": [
        {
          "output_type": "stream",
          "name": "stdout",
          "text": [
            "Enter a number9\n",
            "1 * 9 = 9\n",
            "2 * 9 = 18\n",
            "3 * 9 = 27\n",
            "4 * 9 = 36\n",
            "5 * 9 = 45\n",
            "6 * 9 = 54\n",
            "7 * 9 = 63\n",
            "8 * 9 = 72\n",
            "9 * 9 = 81\n",
            "10 * 9 = 90\n"
          ]
        }
      ]
    },
    {
      "cell_type": "code",
      "source": [
        "name = \"Gagan\"\n",
        "\n",
        "print(f\"Hello {name}\")"
      ],
      "metadata": {
        "colab": {
          "base_uri": "https://localhost:8080/"
        },
        "id": "KJ_Eb15_O3vQ",
        "outputId": "69efea9f-17f8-473b-dded-777a5cd1721c"
      },
      "execution_count": null,
      "outputs": [
        {
          "output_type": "stream",
          "name": "stdout",
          "text": [
            "Hello Gagan\n"
          ]
        }
      ]
    },
    {
      "cell_type": "code",
      "source": [
        "print('7' * 2)\n",
        "print(7 * 2)"
      ],
      "metadata": {
        "colab": {
          "base_uri": "https://localhost:8080/"
        },
        "id": "osX5HOXvNubS",
        "outputId": "74f20d31-fd06-4835-a34e-a8c2612251ec"
      },
      "execution_count": null,
      "outputs": [
        {
          "output_type": "stream",
          "name": "stdout",
          "text": [
            "77\n",
            "14\n"
          ]
        }
      ]
    },
    {
      "cell_type": "code",
      "source": [],
      "metadata": {
        "id": "q2xoIqmJOP1R"
      },
      "execution_count": null,
      "outputs": []
    }
  ]
}