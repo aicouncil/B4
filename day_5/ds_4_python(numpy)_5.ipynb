{
  "nbformat": 4,
  "nbformat_minor": 0,
  "metadata": {
    "colab": {
      "provenance": []
    },
    "kernelspec": {
      "name": "python3",
      "display_name": "Python 3"
    },
    "language_info": {
      "name": "python"
    }
  },
  "cells": [
    {
      "cell_type": "markdown",
      "source": [
        "* create a function which can be used for login , can return True if called with correct credentials else return False\n",
        "* create a function to generate factorials of a given number\n",
        "* create a function which can count number of vowels used in the given string as argument"
      ],
      "metadata": {
        "id": "fiA5TgAcEHdZ"
      }
    },
    {
      "cell_type": "code",
      "execution_count": null,
      "metadata": {
        "id": "6VkZpVUgEAvC"
      },
      "outputs": [],
      "source": [
        "def login(username, password):\n",
        "    # Predefined correct credentials\n",
        "    correct_username = \"admin\"\n",
        "    correct_password = \"password123\"\n",
        "\n",
        "    return username == correct_username and password == correct_password"
      ]
    },
    {
      "cell_type": "code",
      "source": [
        "username = input(\"Enter User name\")\n",
        "userpass = input(\"Enter Password\")\n",
        "\n",
        "login(username, userpass)"
      ],
      "metadata": {
        "colab": {
          "base_uri": "https://localhost:8080/"
        },
        "id": "y8cK7CGIEWm6",
        "outputId": "9bcf720a-3707-4a1c-f325-486260be274a"
      },
      "execution_count": null,
      "outputs": [
        {
          "name": "stdout",
          "output_type": "stream",
          "text": [
            "Enter User nameadmin\n",
            "Enter Passwordpassword123\n"
          ]
        },
        {
          "output_type": "execute_result",
          "data": {
            "text/plain": [
              "True"
            ]
          },
          "metadata": {},
          "execution_count": 2
        }
      ]
    },
    {
      "cell_type": "code",
      "source": [
        "def factorial(n):\n",
        "    return 1 if n == 0 else n * factorial(n-1)\n",
        "\n",
        "factorial(5)"
      ],
      "metadata": {
        "colab": {
          "base_uri": "https://localhost:8080/"
        },
        "id": "kgtQ0nRVEj1u",
        "outputId": "229d3ec1-480e-4cfd-d308-787da9ac933d"
      },
      "execution_count": null,
      "outputs": [
        {
          "output_type": "execute_result",
          "data": {
            "text/plain": [
              "120"
            ]
          },
          "metadata": {},
          "execution_count": 4
        }
      ]
    },
    {
      "cell_type": "code",
      "source": [
        "def count_vowels(text):\n",
        "  vowel_counter = 0\n",
        "  for item in ['a' , 'e' , 'i' , 'o' , 'u']:\n",
        "    if item in text:\n",
        "      vowel_counter += 1\n",
        "  return vowel_counter\n",
        "\n",
        "count_vowels('abcaeidei')"
      ],
      "metadata": {
        "colab": {
          "base_uri": "https://localhost:8080/"
        },
        "id": "fGqdn9mwEwt9",
        "outputId": "3a576cc1-152c-4c2f-ee19-05a273f08178"
      },
      "execution_count": null,
      "outputs": [
        {
          "output_type": "execute_result",
          "data": {
            "text/plain": [
              "3"
            ]
          },
          "metadata": {},
          "execution_count": 8
        }
      ]
    },
    {
      "cell_type": "markdown",
      "source": [
        "**Python Libraries for Data Science**\n",
        "\n",
        "  - Numpy\n",
        "  - Pandas\n",
        "  - Matplotlib"
      ],
      "metadata": {
        "id": "gC2ojZVqGTj_"
      }
    },
    {
      "cell_type": "code",
      "source": [
        "x = 4\n",
        "print(x * 3)"
      ],
      "metadata": {
        "colab": {
          "base_uri": "https://localhost:8080/"
        },
        "id": "NGkOW8g6FYoh",
        "outputId": "a3487dff-b118-41bc-f25e-818b034cd09f"
      },
      "execution_count": null,
      "outputs": [
        {
          "output_type": "stream",
          "name": "stdout",
          "text": [
            "12\n"
          ]
        }
      ]
    },
    {
      "cell_type": "code",
      "source": [
        "y = [3,2,1,6,9,2]\n",
        "print(y * 3)"
      ],
      "metadata": {
        "colab": {
          "base_uri": "https://localhost:8080/"
        },
        "id": "jCfQ6FNYGn-k",
        "outputId": "d9b762f6-777f-4cee-ac49-2f06686216ea"
      },
      "execution_count": null,
      "outputs": [
        {
          "output_type": "stream",
          "name": "stdout",
          "text": [
            "[3, 2, 1, 6, 9, 2, 3, 2, 1, 6, 9, 2, 3, 2, 1, 6, 9, 2]\n"
          ]
        }
      ]
    },
    {
      "cell_type": "markdown",
      "source": [
        "**Numpy** - Perform numerical operations on multi-dimensional data"
      ],
      "metadata": {
        "id": "NDXPYcryHLEt"
      }
    },
    {
      "cell_type": "code",
      "source": [
        "#pip install numpy"
      ],
      "metadata": {
        "colab": {
          "base_uri": "https://localhost:8080/"
        },
        "id": "gdmkCcaJHgoI",
        "outputId": "6dd2b710-4893-4fb1-82be-5633c9c2cd59"
      },
      "execution_count": null,
      "outputs": [
        {
          "output_type": "stream",
          "name": "stdout",
          "text": [
            "Requirement already satisfied: numpy in /usr/local/lib/python3.12/dist-packages (2.0.2)\n"
          ]
        }
      ]
    },
    {
      "cell_type": "code",
      "source": [
        "import numpy as np\n",
        "\n",
        "n1 = np.array([3,2,5,1,6])\n",
        "print(n1)"
      ],
      "metadata": {
        "colab": {
          "base_uri": "https://localhost:8080/"
        },
        "id": "wBK5WjbKGv3e",
        "outputId": "c09bbb6a-3ab4-4998-804c-72eb0fc068b9"
      },
      "execution_count": null,
      "outputs": [
        {
          "output_type": "stream",
          "name": "stdout",
          "text": [
            "[3 2 5 1 6]\n"
          ]
        }
      ]
    },
    {
      "cell_type": "code",
      "source": [
        "print(n1 * 2)"
      ],
      "metadata": {
        "colab": {
          "base_uri": "https://localhost:8080/"
        },
        "id": "hankHfOcHy5b",
        "outputId": "3492b97c-3a6d-4c27-fa82-e5845dd798cc"
      },
      "execution_count": null,
      "outputs": [
        {
          "output_type": "stream",
          "name": "stdout",
          "text": [
            "[ 6  4 10  2 12]\n"
          ]
        }
      ]
    },
    {
      "cell_type": "code",
      "source": [
        "n2 = np.array([[6,9,4,3,2],[2,3,5,1,7],[5,1,7,2,1]])\n",
        "print(n2)"
      ],
      "metadata": {
        "colab": {
          "base_uri": "https://localhost:8080/"
        },
        "id": "CCI6Etn-H1se",
        "outputId": "cb7d9a9b-6589-4417-b5f0-74674dda8905"
      },
      "execution_count": null,
      "outputs": [
        {
          "output_type": "stream",
          "name": "stdout",
          "text": [
            "[[6 9 4 3 2]\n",
            " [2 3 5 1 7]\n",
            " [5 1 7 2 1]]\n"
          ]
        }
      ]
    },
    {
      "cell_type": "code",
      "source": [
        "print(n2 * 3)"
      ],
      "metadata": {
        "colab": {
          "base_uri": "https://localhost:8080/"
        },
        "id": "c6oFioyTIDyz",
        "outputId": "a35f4cb3-9231-4eb2-9fa3-29ecde7ac7ef"
      },
      "execution_count": null,
      "outputs": [
        {
          "output_type": "stream",
          "name": "stdout",
          "text": [
            "[[18 27 12  9  6]\n",
            " [ 6  9 15  3 21]\n",
            " [15  3 21  6  3]]\n"
          ]
        }
      ]
    },
    {
      "cell_type": "code",
      "source": [
        "print(n1)"
      ],
      "metadata": {
        "colab": {
          "base_uri": "https://localhost:8080/"
        },
        "id": "G6U0yz1KIMYg",
        "outputId": "e3e9ca75-e919-42b6-a9c3-dc16387d1198"
      },
      "execution_count": null,
      "outputs": [
        {
          "output_type": "stream",
          "name": "stdout",
          "text": [
            "[3 2 5 1 6]\n"
          ]
        }
      ]
    },
    {
      "cell_type": "code",
      "source": [
        "print(n1.shape)\n",
        "print(n1.ndim)"
      ],
      "metadata": {
        "colab": {
          "base_uri": "https://localhost:8080/"
        },
        "id": "v77-My5yIRjr",
        "outputId": "bbd5f71c-4886-48b5-f572-40cf2a2df63f"
      },
      "execution_count": null,
      "outputs": [
        {
          "output_type": "stream",
          "name": "stdout",
          "text": [
            "(5,)\n",
            "1\n"
          ]
        }
      ]
    },
    {
      "cell_type": "code",
      "source": [
        "print(n2)"
      ],
      "metadata": {
        "colab": {
          "base_uri": "https://localhost:8080/"
        },
        "id": "1bmdixqKIP48",
        "outputId": "5492a1bd-2875-46ed-9c48-19e2c225d421"
      },
      "execution_count": null,
      "outputs": [
        {
          "output_type": "stream",
          "name": "stdout",
          "text": [
            "[[6 9 4 3 2]\n",
            " [2 3 5 1 7]\n",
            " [5 1 7 2 1]]\n"
          ]
        }
      ]
    },
    {
      "cell_type": "code",
      "source": [
        "print(n2.shape)\n",
        "print(n2.ndim)"
      ],
      "metadata": {
        "colab": {
          "base_uri": "https://localhost:8080/"
        },
        "id": "vGQhPIePIQ2g",
        "outputId": "6593a8b5-6d2b-4239-8c69-e129a2f3dbd0"
      },
      "execution_count": null,
      "outputs": [
        {
          "output_type": "stream",
          "name": "stdout",
          "text": [
            "(3, 5)\n",
            "2\n"
          ]
        }
      ]
    },
    {
      "cell_type": "code",
      "source": [
        "print(n2)"
      ],
      "metadata": {
        "colab": {
          "base_uri": "https://localhost:8080/"
        },
        "id": "HgcLcMbeIUlW",
        "outputId": "f5806d4f-164e-43fe-f0d4-3189677ca186"
      },
      "execution_count": null,
      "outputs": [
        {
          "output_type": "stream",
          "name": "stdout",
          "text": [
            "[[6 9 4 3 2]\n",
            " [2 3 5 1 7]\n",
            " [5 1 7 2 1]]\n"
          ]
        }
      ]
    },
    {
      "cell_type": "code",
      "source": [
        "print(np.mean(n2))\n",
        "print(np.min(n2))\n",
        "print(np.max(n2))\n",
        "print(np.sum(n2))\n",
        "print(np.std(n2))\n",
        "print(np.var(n2))\n",
        "print(np.argmin(n2))\n",
        "print(np.argmax(n2))"
      ],
      "metadata": {
        "colab": {
          "base_uri": "https://localhost:8080/"
        },
        "id": "7Ddq47mqIgTH",
        "outputId": "38b02d6c-ea93-4dc0-8ea0-fa73b620020d"
      },
      "execution_count": null,
      "outputs": [
        {
          "output_type": "stream",
          "name": "stdout",
          "text": [
            "3.8666666666666667\n",
            "1\n",
            "9\n",
            "58\n",
            "2.4458581770458854\n",
            "5.982222222222222\n",
            "8\n",
            "1\n"
          ]
        }
      ]
    },
    {
      "cell_type": "code",
      "source": [
        "print(n2)"
      ],
      "metadata": {
        "colab": {
          "base_uri": "https://localhost:8080/"
        },
        "id": "SD790rpAJNdn",
        "outputId": "4737a8e7-c846-4158-9ac4-0c2b909d146f"
      },
      "execution_count": null,
      "outputs": [
        {
          "output_type": "stream",
          "name": "stdout",
          "text": [
            "[[6 9 4 3 2]\n",
            " [2 3 5 1 7]\n",
            " [5 1 7 2 1]]\n"
          ]
        }
      ]
    },
    {
      "cell_type": "code",
      "source": [
        "print(np.mean(n2 , axis = 0))\n",
        "print(np.min(n2 ,  axis = 0))\n",
        "print(np.max(n2 , axis = 0))\n",
        "print(np.sum(n2 , axis = 0))\n",
        "print(np.std(n2 , axis = 0))\n",
        "print(np.var(n2 , axis = 0))\n",
        "print(np.argmin(n2 , axis = 0))\n",
        "print(np.argmax(n2 , axis = 0))"
      ],
      "metadata": {
        "colab": {
          "base_uri": "https://localhost:8080/"
        },
        "id": "e_7z_xP6IvAM",
        "outputId": "1d7412fb-0aa4-4849-9029-ab6de32cb3d9"
      },
      "execution_count": null,
      "outputs": [
        {
          "output_type": "stream",
          "name": "stdout",
          "text": [
            "[4.33333333 4.33333333 5.33333333 2.         3.33333333]\n",
            "[2 1 4 1 1]\n",
            "[6 9 7 3 7]\n",
            "[13 13 16  6 10]\n",
            "[1.69967317 3.39934634 1.24721913 0.81649658 2.62466929]\n",
            "[ 2.88888889 11.55555556  1.55555556  0.66666667  6.88888889]\n",
            "[1 2 0 1 2]\n",
            "[0 0 2 0 1]\n"
          ]
        }
      ]
    },
    {
      "cell_type": "code",
      "source": [
        "print(n2)"
      ],
      "metadata": {
        "colab": {
          "base_uri": "https://localhost:8080/"
        },
        "id": "xURKxPpLJoeh",
        "outputId": "adc4f456-84b5-4a0f-8a86-657f4aabe77f"
      },
      "execution_count": null,
      "outputs": [
        {
          "output_type": "stream",
          "name": "stdout",
          "text": [
            "[[6 9 4 3 2]\n",
            " [2 3 5 1 7]\n",
            " [5 1 7 2 1]]\n"
          ]
        }
      ]
    },
    {
      "cell_type": "code",
      "source": [
        "print(np.mean(n2 , axis = 1))\n",
        "print(np.min(n2 ,  axis = 1))\n",
        "print(np.max(n2 , axis = 1))\n",
        "print(np.sum(n2 , axis = 1))\n",
        "print(np.std(n2 , axis = 1))\n",
        "print(np.var(n2 , axis = 1))\n",
        "print(np.argmin(n2 , axis = 1))\n",
        "print(np.argmax(n2 , axis = 1))"
      ],
      "metadata": {
        "colab": {
          "base_uri": "https://localhost:8080/"
        },
        "id": "ocszasyFJOtP",
        "outputId": "af565564-a38a-450a-f78b-7dc75fd5916a"
      },
      "execution_count": null,
      "outputs": [
        {
          "output_type": "stream",
          "name": "stdout",
          "text": [
            "[4.8 3.6 3.2]\n",
            "[2 1 1]\n",
            "[9 7 7]\n",
            "[24 18 16]\n",
            "[2.48193473 2.15406592 2.4       ]\n",
            "[6.16 4.64 5.76]\n",
            "[4 3 1]\n",
            "[1 4 2]\n"
          ]
        }
      ]
    },
    {
      "cell_type": "code",
      "source": [
        "print(np.ones((3,3)))"
      ],
      "metadata": {
        "colab": {
          "base_uri": "https://localhost:8080/"
        },
        "id": "_rQ58AnCJbuf",
        "outputId": "8ce089bb-7625-4062-a68a-d581cc1efa80"
      },
      "execution_count": null,
      "outputs": [
        {
          "output_type": "stream",
          "name": "stdout",
          "text": [
            "[[1. 1. 1.]\n",
            " [1. 1. 1.]\n",
            " [1. 1. 1.]]\n"
          ]
        }
      ]
    },
    {
      "cell_type": "code",
      "source": [
        "print(np.zeros((3,3)))"
      ],
      "metadata": {
        "colab": {
          "base_uri": "https://localhost:8080/"
        },
        "id": "xpFR6kfHKagW",
        "outputId": "ea460dbe-7e19-4090-e789-5c7774dc0d71"
      },
      "execution_count": null,
      "outputs": [
        {
          "output_type": "stream",
          "name": "stdout",
          "text": [
            "[[0. 0. 0.]\n",
            " [0. 0. 0.]\n",
            " [0. 0. 0.]]\n"
          ]
        }
      ]
    },
    {
      "cell_type": "code",
      "source": [
        "print(np.eye(4))"
      ],
      "metadata": {
        "colab": {
          "base_uri": "https://localhost:8080/"
        },
        "id": "vGj_b623Khgd",
        "outputId": "d4cb04a5-334a-493f-ec2d-8c9b4e2d9b9d"
      },
      "execution_count": null,
      "outputs": [
        {
          "output_type": "stream",
          "name": "stdout",
          "text": [
            "[[1. 0. 0. 0.]\n",
            " [0. 1. 0. 0.]\n",
            " [0. 0. 1. 0.]\n",
            " [0. 0. 0. 1.]]\n"
          ]
        }
      ]
    },
    {
      "cell_type": "code",
      "source": [
        "a = np.array([[2,3,5,9,1] , [1,7,9,3,8] , [4,3,8,2,1]])\n",
        "print(a)"
      ],
      "metadata": {
        "colab": {
          "base_uri": "https://localhost:8080/"
        },
        "id": "sII7b06TKmwI",
        "outputId": "0651e24b-1800-4073-c021-be34e74bdfa6"
      },
      "execution_count": null,
      "outputs": [
        {
          "output_type": "stream",
          "name": "stdout",
          "text": [
            "[[2 3 5 9 1]\n",
            " [1 7 9 3 8]\n",
            " [4 3 8 2 1]]\n"
          ]
        }
      ]
    },
    {
      "cell_type": "code",
      "source": [
        "b = np.array([[4,1,2,3,5],[2,1,9,8,7]])\n",
        "print(b)"
      ],
      "metadata": {
        "colab": {
          "base_uri": "https://localhost:8080/"
        },
        "id": "yakfgjI8K7AD",
        "outputId": "55688c63-0ac6-48a5-b106-7eb1cd5e77f0"
      },
      "execution_count": null,
      "outputs": [
        {
          "output_type": "stream",
          "name": "stdout",
          "text": [
            "[[4 1 2 3 5]\n",
            " [2 1 9 8 7]]\n"
          ]
        }
      ]
    },
    {
      "cell_type": "markdown",
      "source": [
        "**Stacking**"
      ],
      "metadata": {
        "id": "YF4I5iB5L6BC"
      }
    },
    {
      "cell_type": "code",
      "source": [
        "print(np.vstack((a,b)))"
      ],
      "metadata": {
        "colab": {
          "base_uri": "https://localhost:8080/"
        },
        "id": "TMffKXqXLVCu",
        "outputId": "047245fc-de10-481b-ffb1-1dfc7b139bbe"
      },
      "execution_count": null,
      "outputs": [
        {
          "output_type": "stream",
          "name": "stdout",
          "text": [
            "[[2 3 5 9 1]\n",
            " [1 7 9 3 8]\n",
            " [4 3 8 2 1]\n",
            " [4 1 2 3 5]\n",
            " [2 1 9 8 7]]\n"
          ]
        }
      ]
    },
    {
      "cell_type": "code",
      "source": [
        "c = np.array([[2,3],[5,4],[1,9]])\n",
        "print(c)"
      ],
      "metadata": {
        "colab": {
          "base_uri": "https://localhost:8080/"
        },
        "id": "g8_UBWwVLbK2",
        "outputId": "bb57e1db-f710-4f17-c4cd-791cc4282b29"
      },
      "execution_count": null,
      "outputs": [
        {
          "output_type": "stream",
          "name": "stdout",
          "text": [
            "[[2 3]\n",
            " [5 4]\n",
            " [1 9]]\n"
          ]
        }
      ]
    },
    {
      "cell_type": "code",
      "source": [
        "print(np.hstack((a,c)))"
      ],
      "metadata": {
        "colab": {
          "base_uri": "https://localhost:8080/"
        },
        "id": "6gmGrf4nLq3z",
        "outputId": "3adc26d0-91a0-42a7-ba31-7a8572658d90"
      },
      "execution_count": null,
      "outputs": [
        {
          "output_type": "stream",
          "name": "stdout",
          "text": [
            "[[2 3 5 9 1 2 3]\n",
            " [1 7 9 3 8 5 4]\n",
            " [4 3 8 2 1 1 9]]\n"
          ]
        }
      ]
    },
    {
      "cell_type": "markdown",
      "source": [
        "**Slicing**"
      ],
      "metadata": {
        "id": "jcw2IwXxL8I5"
      }
    },
    {
      "cell_type": "code",
      "source": [
        "print(a)"
      ],
      "metadata": {
        "colab": {
          "base_uri": "https://localhost:8080/"
        },
        "id": "mCEK-riHLubU",
        "outputId": "7e9e4495-1c1b-4587-d9a2-a4f38d5a90ad"
      },
      "execution_count": null,
      "outputs": [
        {
          "output_type": "stream",
          "name": "stdout",
          "text": [
            "[[2 3 5 9 1]\n",
            " [1 7 9 3 8]\n",
            " [4 3 8 2 1]]\n"
          ]
        }
      ]
    },
    {
      "cell_type": "code",
      "source": [
        "#array[row_index,column_index]\n",
        "print(a[0,0])\n",
        "print(a[1,3])"
      ],
      "metadata": {
        "colab": {
          "base_uri": "https://localhost:8080/"
        },
        "id": "gp9mnzRqL-MP",
        "outputId": "60cc527d-b964-48f8-f8a2-04f671748ab1"
      },
      "execution_count": null,
      "outputs": [
        {
          "output_type": "stream",
          "name": "stdout",
          "text": [
            "2\n",
            "3\n"
          ]
        }
      ]
    },
    {
      "cell_type": "code",
      "source": [
        "#array[initial_index : initial_index + number_of_steps]\n",
        "\n",
        "a1 = np.array([3,2,5,1,6,7,8,9,2,5,4,6,7,2,0])\n",
        "print(a1)\n",
        "print(a1[3:9])\n",
        "print(a1[8:13])\n",
        "print(a1[-3:])"
      ],
      "metadata": {
        "colab": {
          "base_uri": "https://localhost:8080/"
        },
        "id": "g4fNlINiMC1K",
        "outputId": "a5556b65-edb1-4f32-f535-e7cb883bc38d"
      },
      "execution_count": null,
      "outputs": [
        {
          "output_type": "stream",
          "name": "stdout",
          "text": [
            "[3 2 5 1 6 7 8 9 2 5 4 6 7 2 0]\n",
            "[1 6 7 8 9 2]\n",
            "[2 5 4 6 7]\n",
            "[7 2 0]\n"
          ]
        }
      ]
    },
    {
      "cell_type": "code",
      "source": [
        "a2 = np.array([[2,3,2,1,5,6,7,8] , [12,13,12,11,15,16,17,18] ,\n",
        " [21,31,21,11,51,61,71,81] , [22,32,22,12,52,26,27,28] , [32,33,32,31,53,63,73,83]])\n",
        "print(a2)"
      ],
      "metadata": {
        "colab": {
          "base_uri": "https://localhost:8080/"
        },
        "id": "Ds9PbH0TNGcm",
        "outputId": "17d25ed5-8b2a-4bc4-b18b-d97692ce45ec"
      },
      "execution_count": null,
      "outputs": [
        {
          "output_type": "stream",
          "name": "stdout",
          "text": [
            "[[ 2  3  2  1  5  6  7  8]\n",
            " [12 13 12 11 15 16 17 18]\n",
            " [21 31 21 11 51 61 71 81]\n",
            " [22 32 22 12 52 26 27 28]\n",
            " [32 33 32 31 53 63 73 83]]\n"
          ]
        }
      ]
    },
    {
      "cell_type": "code",
      "source": [
        "print(a2[1:4 , 2:6])"
      ],
      "metadata": {
        "colab": {
          "base_uri": "https://localhost:8080/"
        },
        "id": "f5W8jmMkNybU",
        "outputId": "134dd006-e5ee-47ae-a668-f9de9aa0868c"
      },
      "execution_count": null,
      "outputs": [
        {
          "output_type": "stream",
          "name": "stdout",
          "text": [
            "[[12 11 15 16]\n",
            " [21 11 51 61]\n",
            " [22 12 52 26]]\n"
          ]
        }
      ]
    },
    {
      "cell_type": "code",
      "source": [
        "print(a2[:,7:8])"
      ],
      "metadata": {
        "colab": {
          "base_uri": "https://localhost:8080/"
        },
        "id": "WJnmABPmOe0l",
        "outputId": "ac14a29b-8cfb-4886-ee10-2a2e41ae2bcb"
      },
      "execution_count": null,
      "outputs": [
        {
          "output_type": "stream",
          "name": "stdout",
          "text": [
            "[[ 8]\n",
            " [18]\n",
            " [81]\n",
            " [28]\n",
            " [83]]\n"
          ]
        }
      ]
    },
    {
      "cell_type": "code",
      "source": [
        "print(a2[:,-1:])"
      ],
      "metadata": {
        "colab": {
          "base_uri": "https://localhost:8080/"
        },
        "id": "WATIyKZvOrJp",
        "outputId": "e9164c09-34e6-4d4b-d83b-1d6afac4d599"
      },
      "execution_count": null,
      "outputs": [
        {
          "output_type": "stream",
          "name": "stdout",
          "text": [
            "[[ 8]\n",
            " [18]\n",
            " [81]\n",
            " [28]\n",
            " [83]]\n"
          ]
        }
      ]
    },
    {
      "cell_type": "code",
      "source": [
        "print(a2[:,-2:])"
      ],
      "metadata": {
        "colab": {
          "base_uri": "https://localhost:8080/"
        },
        "id": "bVquywhjO62a",
        "outputId": "0e4e8023-137e-459a-e81e-c31d6f944906"
      },
      "execution_count": null,
      "outputs": [
        {
          "output_type": "stream",
          "name": "stdout",
          "text": [
            "[[ 7  8]\n",
            " [17 18]\n",
            " [71 81]\n",
            " [27 28]\n",
            " [73 83]]\n"
          ]
        }
      ]
    },
    {
      "cell_type": "code",
      "source": [
        "print(a2)"
      ],
      "metadata": {
        "colab": {
          "base_uri": "https://localhost:8080/"
        },
        "id": "v8Hc8OQRPE3n",
        "outputId": "95907369-7c19-4ea1-dfa0-e307636e2780"
      },
      "execution_count": null,
      "outputs": [
        {
          "output_type": "stream",
          "name": "stdout",
          "text": [
            "[[ 2  3  2  1  5  6  7  8]\n",
            " [12 13 12 11 15 16 17 18]\n",
            " [21 31 21 11 51 61 71 81]\n",
            " [22 32 22 12 52 26 27 28]\n",
            " [32 33 32 31 53 63 73 83]]\n"
          ]
        }
      ]
    },
    {
      "cell_type": "code",
      "source": [
        "print(a2[-1,:])"
      ],
      "metadata": {
        "colab": {
          "base_uri": "https://localhost:8080/"
        },
        "id": "hP19uBjVPfKc",
        "outputId": "78b5b89b-0acc-4456-9bfc-02eb5a4c6b5e"
      },
      "execution_count": null,
      "outputs": [
        {
          "output_type": "stream",
          "name": "stdout",
          "text": [
            "[32 33 32 31 53 63 73 83]\n"
          ]
        }
      ]
    },
    {
      "cell_type": "code",
      "source": [],
      "metadata": {
        "id": "U1fDiH-GPgFD"
      },
      "execution_count": null,
      "outputs": []
    }
  ]
}